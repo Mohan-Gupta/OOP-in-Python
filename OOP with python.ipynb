{
 "cells": [
  {
   "cell_type": "markdown",
   "metadata": {},
   "source": [
    "# Object Oriented Programming(OOP) in Python\n",
    "\n",
    "Every class in Python is derived from class ```object```.It is the most base class.<br>\n",
    "All other classes whether built-in or user-defined are instances of ```object``` class."
   ]
  },
  {
   "cell_type": "markdown",
   "metadata": {},
   "source": [
    "### Creating a simple class"
   ]
  },
  {
   "cell_type": "code",
   "execution_count": 1,
   "metadata": {},
   "outputs": [],
   "source": [
    "class Myclass:\n",
    "    '''This is docstring,Description of class'''\n",
    "    \n",
    "    a = 10                                  #class variable\n",
    "    \n",
    "    def __init__(self):                     #class constructor\n",
    "        print('Class Constructor called on initialisation of class')\n",
    "    \n",
    "    def func(self):                         # class method\n",
    "        print('hello, this is class method')"
   ]
  },
  {
   "cell_type": "code",
   "execution_count": 2,
   "metadata": {},
   "outputs": [
    {
     "name": "stdout",
     "output_type": "stream",
     "text": [
      "Class Constructor called on initialisation of class\n"
     ]
    }
   ],
   "source": [
    "obj = Myclass()                             #creating object of class"
   ]
  },
  {
   "cell_type": "code",
   "execution_count": 3,
   "metadata": {},
   "outputs": [
    {
     "data": {
      "text/plain": [
       "<function __main__.Myclass.func(self)>"
      ]
     },
     "execution_count": 3,
     "metadata": {},
     "output_type": "execute_result"
    }
   ],
   "source": [
    "Myclass.func                         #returns function object"
   ]
  },
  {
   "cell_type": "code",
   "execution_count": 4,
   "metadata": {},
   "outputs": [
    {
     "data": {
      "text/plain": [
       "<bound method Myclass.func of <__main__.Myclass object at 0x0000022294703808>>"
      ]
     },
     "execution_count": 4,
     "metadata": {},
     "output_type": "execute_result"
    }
   ],
   "source": [
    "obj.func                             #returns method object"
   ]
  },
  {
   "cell_type": "code",
   "execution_count": 5,
   "metadata": {},
   "outputs": [
    {
     "name": "stdout",
     "output_type": "stream",
     "text": [
      "hello, this is class method\n"
     ]
    }
   ],
   "source": [
    "obj.func()"
   ]
  },
  {
   "cell_type": "markdown",
   "metadata": {},
   "source": [
    "You must have noticed that in function definiton, we use self as parameter. But on calling, we didn't pass any pramater.<br>\n",
    "This is because,<br> \n",
    "            ```ob.func()``` translates to ```MyClass.func(obj)```"
   ]
  },
  {
   "cell_type": "code",
   "execution_count": 6,
   "metadata": {},
   "outputs": [],
   "source": [
    "class Maths:\n",
    "    '''class to do addition and subtraction'''\n",
    "    \n",
    "    def __init__(self,a,b):                    #class constructor\n",
    "        self.x = a\n",
    "        self.y = b\n",
    "    \n",
    "    def __del__(self):                         # class destructor\n",
    "        print(\"Class destructor called\")\n",
    "        \n",
    "    def add(self):                             # method to add\n",
    "        return self.x+self.y\n",
    "    \n",
    "    def sub(self):                             # method to subtract\n",
    "        return self.x-self.y    "
   ]
  },
  {
   "cell_type": "code",
   "execution_count": 7,
   "metadata": {},
   "outputs": [],
   "source": [
    "m = Maths(10,12)"
   ]
  },
  {
   "cell_type": "code",
   "execution_count": 8,
   "metadata": {},
   "outputs": [
    {
     "data": {
      "text/plain": [
       "22"
      ]
     },
     "execution_count": 8,
     "metadata": {},
     "output_type": "execute_result"
    }
   ],
   "source": [
    "m.add()"
   ]
  },
  {
   "cell_type": "code",
   "execution_count": 9,
   "metadata": {},
   "outputs": [
    {
     "data": {
      "text/plain": [
       "-2"
      ]
     },
     "execution_count": 9,
     "metadata": {},
     "output_type": "execute_result"
    }
   ],
   "source": [
    "m.sub()"
   ]
  },
  {
   "cell_type": "code",
   "execution_count": 10,
   "metadata": {},
   "outputs": [
    {
     "name": "stdout",
     "output_type": "stream",
     "text": [
      "Class destructor called\n"
     ]
    }
   ],
   "source": [
    "del m "
   ]
  },
  {
   "cell_type": "markdown",
   "metadata": {},
   "source": [
    "```del``` keyword is used to delete the class object i.e. object is deallocated from the memory."
   ]
  },
  {
   "cell_type": "markdown",
   "metadata": {},
   "source": [
    "## Inheritance \n",
    "Inheritance is the process of creating new class using details of existing class, without modifying it.<br>\n",
    "In Python, we have two types of Inheritance:<br>\n",
    "1. Multilevel Inheritance\n",
    "2. Multiple Inheritance"
   ]
  },
  {
   "cell_type": "code",
   "execution_count": 11,
   "metadata": {},
   "outputs": [],
   "source": [
    "#Multilevel Inheritance\n",
    "\n",
    "class Name:\n",
    "    def __init__(self,fname,lname):\n",
    "        self.fname = fname\n",
    "        self. lname = lname\n",
    "    def name(self):\n",
    "        return \"Name: {} {}\".format(self.fname,self.lname)\n",
    "\n",
    "\n",
    "class Email(Name):\n",
    "    def email(self):\n",
    "        return \"E-mail : {}{}@gmail.com\".format(self.fname,self.lname)"
   ]
  },
  {
   "cell_type": "code",
   "execution_count": 12,
   "metadata": {},
   "outputs": [
    {
     "data": {
      "text/plain": [
       "'Name: Jon Snow'"
      ]
     },
     "execution_count": 12,
     "metadata": {},
     "output_type": "execute_result"
    }
   ],
   "source": [
    "n = Name('Jon','Snow')\n",
    "n.name()"
   ]
  },
  {
   "cell_type": "code",
   "execution_count": 13,
   "metadata": {},
   "outputs": [
    {
     "name": "stdout",
     "output_type": "stream",
     "text": [
      "Name: Jon Snow\n",
      "E-mail : JonSnow@gmail.com\n"
     ]
    }
   ],
   "source": [
    "e = Email('Jon','Snow')\n",
    "print(e.name())\n",
    "print(e.email())"
   ]
  },
  {
   "cell_type": "markdown",
   "metadata": {},
   "source": [
    "Hence, we can see all the properties of parent class ```Name``` were inherited in child class ```Email```.<br>"
   ]
  },
  {
   "cell_type": "code",
   "execution_count": 14,
   "metadata": {},
   "outputs": [],
   "source": [
    "#Multiple Inheritance\n",
    "\n",
    "class square:\n",
    "    def __init__(self,a):\n",
    "        self.a = a\n",
    "    def sq(self):\n",
    "        return self.a**2\n",
    "\n",
    "class cube:\n",
    "    def __init__(self,b):\n",
    "        self.b = b\n",
    "    def cub(self):\n",
    "        return self.a**3\n",
    "\n",
    "class powers(square,cube):\n",
    "    pass\n",
    "    "
   ]
  },
  {
   "cell_type": "code",
   "execution_count": 15,
   "metadata": {},
   "outputs": [
    {
     "name": "stdout",
     "output_type": "stream",
     "text": [
      "4\n",
      "8\n"
     ]
    }
   ],
   "source": [
    "p = powers(2)\n",
    "print(p.sq())\n",
    "print(p.cub())"
   ]
  },
  {
   "cell_type": "markdown",
   "metadata": {},
   "source": [
    "#### Now, as the basics of the OOP are clear,let us create a class of Complex numbers."
   ]
  },
  {
   "cell_type": "code",
   "execution_count": 16,
   "metadata": {},
   "outputs": [],
   "source": [
    "class Complex:\n",
    "    def __init__(self,a,b):\n",
    "        self.real = a\n",
    "        self.img = b"
   ]
  },
  {
   "cell_type": "code",
   "execution_count": 17,
   "metadata": {},
   "outputs": [],
   "source": [
    "#creating two complex numbers\n",
    "\n",
    "cmp1 = Complex(2,3)\n",
    "cmp2 = Complex(4,5)"
   ]
  },
  {
   "cell_type": "code",
   "execution_count": 18,
   "metadata": {},
   "outputs": [
    {
     "name": "stdout",
     "output_type": "stream",
     "text": [
      "<__main__.Complex object at 0x00000222945EF348>\n"
     ]
    }
   ],
   "source": [
    "print(cmp1)"
   ]
  },
  {
   "cell_type": "markdown",
   "metadata": {},
   "source": [
    "As we can see it didn't printed the complex number"
   ]
  },
  {
   "cell_type": "code",
   "execution_count": 19,
   "metadata": {},
   "outputs": [
    {
     "ename": "TypeError",
     "evalue": "unsupported operand type(s) for +: 'Complex' and 'Complex'",
     "output_type": "error",
     "traceback": [
      "\u001b[1;31m---------------------------------------------------------------------------\u001b[0m",
      "\u001b[1;31mTypeError\u001b[0m                                 Traceback (most recent call last)",
      "\u001b[1;32m<ipython-input-19-9a1e7c848bd1>\u001b[0m in \u001b[0;36m<module>\u001b[1;34m\u001b[0m\n\u001b[0;32m      1\u001b[0m \u001b[1;31m# let us add the two complex numbers\u001b[0m\u001b[1;33m\u001b[0m\u001b[1;33m\u001b[0m\u001b[1;33m\u001b[0m\u001b[0m\n\u001b[1;32m----> 2\u001b[1;33m \u001b[0mprint\u001b[0m\u001b[1;33m(\u001b[0m\u001b[0mcmp1\u001b[0m\u001b[1;33m+\u001b[0m\u001b[0mcmp2\u001b[0m\u001b[1;33m)\u001b[0m\u001b[1;33m\u001b[0m\u001b[1;33m\u001b[0m\u001b[0m\n\u001b[0m",
      "\u001b[1;31mTypeError\u001b[0m: unsupported operand type(s) for +: 'Complex' and 'Complex'"
     ]
    }
   ],
   "source": [
    "# let us add the two complex numbers\n",
    "print(cmp1+cmp2)"
   ]
  },
  {
   "cell_type": "markdown",
   "metadata": {},
   "source": [
    "This error means that the ```+``` operator is unsupported for our ```Complex``` class"
   ]
  },
  {
   "cell_type": "markdown",
   "metadata": {},
   "source": [
    "We Know that when we add two numbers we get their sum and<br> \n",
    "when we add two strings we get the concatenated string"
   ]
  },
  {
   "cell_type": "code",
   "execution_count": 20,
   "metadata": {},
   "outputs": [
    {
     "name": "stdout",
     "output_type": "stream",
     "text": [
      "5\n",
      "ComplexNumbers\n"
     ]
    }
   ],
   "source": [
    "print(2+3)\n",
    "print(\"Complex\"+\"Numbers\")"
   ]
  },
  {
   "cell_type": "code",
   "execution_count": 21,
   "metadata": {},
   "outputs": [],
   "source": [
    "# Now, we can see the operator + was same<br>\n",
    "# but when it was applied on different type of objects it yielded different results.\n",
    "# When we use + operator internally Python's '__add__()' function is called which works different for different data types."
   ]
  },
  {
   "cell_type": "markdown",
   "metadata": {},
   "source": [
    "This concept is known as ```Operator Overloading``` (case of Polymorphism).<br>\n",
    "<b>Now , let us apply this concept in our class."
   ]
  },
  {
   "cell_type": "code",
   "execution_count": 22,
   "metadata": {},
   "outputs": [],
   "source": [
    "# similar to __add__() we have __len__(),__str__(),__sub__(),__mul__() functions."
   ]
  },
  {
   "cell_type": "code",
   "execution_count": 23,
   "metadata": {},
   "outputs": [],
   "source": [
    "class Complex:\n",
    "    '''class to work on complex Numbers'''\n",
    "    \n",
    "    def __init__(self,a,b):\n",
    "        self.real = a\n",
    "        self.img = b\n",
    "        \n",
    "    def __str__(self):                              # these type of function are known as special functions\n",
    "        '''Function to print the complex number object'''\n",
    "        if self.img>0:\n",
    "            return \"{}+{}j\".format(self.real,self.img)\n",
    "        else:\n",
    "            return \"{}-{}j\".format(self.real ,abs(self.img))\n",
    "        \n",
    "    def __abs__(self):\n",
    "        '''To calculate absolute value of complex number'''\n",
    "        return (self.real**2 + self.img**2)**(0.5)\n",
    "    \n",
    "    def __add__(self,other):                              # here other refers to the other object of this class\n",
    "        '''Function to add two complex numbers'''\n",
    "        x = self.real + other.img\n",
    "        y = self.img + other.img\n",
    "        return Complex(x,y)\n",
    "    \n",
    "    def __sub__(self,other):\n",
    "        '''Function to subtract two complex numbers'''\n",
    "        x = self.real - other.img\n",
    "        y = self.img - other.img\n",
    "        return Complex(x,y)\n",
    "    \n",
    "    def __mul__(self,other):\n",
    "        '''Funxtion to multiply two complex numbers'''\n",
    "        x = (self.real*other.real) - (self.img*other.img)\n",
    "        y = (self.img*other.real) +(self.real*other.img)\n",
    "        return Complex(x,y)"
   ]
  },
  {
   "cell_type": "code",
   "execution_count": 24,
   "metadata": {},
   "outputs": [],
   "source": [
    "cmp = Complex(2,3)"
   ]
  },
  {
   "cell_type": "code",
   "execution_count": 25,
   "metadata": {},
   "outputs": [
    {
     "name": "stdout",
     "output_type": "stream",
     "text": [
      "2+3j\n"
     ]
    }
   ],
   "source": [
    "print(cmp)"
   ]
  },
  {
   "cell_type": "code",
   "execution_count": 26,
   "metadata": {},
   "outputs": [
    {
     "data": {
      "text/plain": [
       "3.605551275463989"
      ]
     },
     "execution_count": 26,
     "metadata": {},
     "output_type": "execute_result"
    }
   ],
   "source": [
    "abs(cmp)"
   ]
  },
  {
   "cell_type": "code",
   "execution_count": 27,
   "metadata": {},
   "outputs": [],
   "source": [
    "cmp2 = Complex(4,5)"
   ]
  },
  {
   "cell_type": "code",
   "execution_count": 28,
   "metadata": {},
   "outputs": [
    {
     "name": "stdout",
     "output_type": "stream",
     "text": [
      "7+8j\n"
     ]
    }
   ],
   "source": [
    "print(cmp+cmp2)"
   ]
  },
  {
   "cell_type": "markdown",
   "metadata": {},
   "source": [
    "```cmp1+cmp2``` internally --> ```cmp1.__add__(cmp2)``` which translates to --> ```Complex.__add__(cmp1,cmp2)```"
   ]
  },
  {
   "cell_type": "code",
   "execution_count": 29,
   "metadata": {},
   "outputs": [
    {
     "name": "stdout",
     "output_type": "stream",
     "text": [
      "-3-2j\n"
     ]
    }
   ],
   "source": [
    "print(cmp-cmp2)"
   ]
  },
  {
   "cell_type": "code",
   "execution_count": 30,
   "metadata": {},
   "outputs": [
    {
     "name": "stdout",
     "output_type": "stream",
     "text": [
      "-7+22j\n"
     ]
    }
   ],
   "source": [
    "print(cmp*cmp2)"
   ]
  }
 ],
 "metadata": {
  "kernelspec": {
   "display_name": "Python 3",
   "language": "python",
   "name": "python3"
  },
  "language_info": {
   "codemirror_mode": {
    "name": "ipython",
    "version": 3
   },
   "file_extension": ".py",
   "mimetype": "text/x-python",
   "name": "python",
   "nbconvert_exporter": "python",
   "pygments_lexer": "ipython3",
   "version": "3.7.6"
  }
 },
 "nbformat": 4,
 "nbformat_minor": 4
}
